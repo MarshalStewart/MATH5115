{
 "cells": [
  {
   "cell_type": "markdown",
   "id": "53aca02b",
   "metadata": {},
   "source": [
    "# Test notebook for student's code for Assignment #3\n",
    "\n",
    "## Required function definitions:\n",
    "\n",
    "### Problem #1: \n",
    "- Function: solve_hilbert(b)\n",
    "- Input: RHS vector in Hx = b\n",
    "- Output: 1D numpy.array of the same length as b      \n",
    "\n",
    "### Problem #2: \n",
    "- Function: solve_fdm(N)\n",
    "- Input: Size of the linear system N (integer)\n",
    "- Output: 1D numpy.array of length N\n",
    "\n",
    "\n",
    "## How to run the test script:\n",
    "Once you have defined the two functions, you run the function `HW3_Test` in last cell. The test script will output \"Tests Passed\" if the code passes all the tests otherwise it will output which tests have failed. Depending on how fast your computer is, the tests might take a while to a minute to finish."
   ]
  },
  {
   "cell_type": "code",
   "execution_count": 1,
   "id": "2230f543",
   "metadata": {},
   "outputs": [],
   "source": [
    "import numpy as np\n",
    "import scipy.linalg as la\n",
    "\n",
    "import zlib, base64\n",
    "from time import time"
   ]
  },
  {
   "cell_type": "code",
   "execution_count": 11,
   "id": "2d230fc0",
   "metadata": {},
   "outputs": [],
   "source": [
    "def solve_hilbert(b):\n",
    "    N = len(b)\n",
    "    H = np.zeros((N, N))\n",
    "    for i in range(N):\n",
    "        for j in range(N):\n",
    "            H[j,i] = 1/(i+j+1)\n",
    "#     H = la.hilbert(N)\n",
    "    return la.solve(H, b)"
   ]
  },
  {
   "cell_type": "code",
   "execution_count": 3,
   "id": "3257ce8c",
   "metadata": {},
   "outputs": [],
   "source": [
    "# Problem #2\n",
    "def solve_fdm(N): \n",
    "    \n",
    "    # Create bounded storage matrix A\n",
    "    A = np.zeros((3, N))\n",
    "    A[0, :] = -1\n",
    "    A[1, :] = 2\n",
    "    A[2, :] = -1\n",
    "    \n",
    "    # Create RHS\n",
    "    b = np.zeros(N)\n",
    "    for i in range(1, N+1):\n",
    "        b[(i-1)] = -2/(N+1)**2\n",
    "    \n",
    "    return la.solve_banded((1,1), A, b)"
   ]
  },
  {
   "cell_type": "code",
   "execution_count": 4,
   "id": "6c1935b1",
   "metadata": {},
   "outputs": [],
   "source": [
    "def test_problem_1(solve_hilbert, N=100, tol=1e-6):\n",
    "    print('Solving Hilbert system...')\n",
    "    \n",
    "    b = np.random.rand(N)  # Compute a random RHS \n",
    "\n",
    "    print('\\nComputing your solution...')\n",
    "    start_time = time()\n",
    "    \n",
    "    z = solve_hilbert(b)\n",
    "    \n",
    "    print('Computed solution in {:3.2f} seconds.'.format(time() - start_time))\n",
    "\n",
    "    print('\\nSolving benchmark solution...')\n",
    "    start_time = time()\n",
    "    \n",
    "    local_vars = {'N': N, 'b': b}\n",
    "    exec(zlib.decompress(base64.b64decode('eJxFjLEOwiAURXe+4o1gEVNHE/ZO/IBxaBtq7ksLBIyJ/XpbTON67jl3ynGhMiJ9TEl+RD8TlhTziwaEuAhnB1OwetHZkMzqcyxSOu2UElPMBBAC5T48vXTqJqi7Axp42PYirycJNK06t4oE7TrzX98nXZtfxFyjDTM3tdg483F2cLF6O/emxPntZacHJb6McTpa')), globals(), local_vars)\n",
    "    ze = local_vars['ze']\n",
    "    print('Computed benchmark solution in {:3.2f} seconds.'.format(time() - start_time))\n",
    "    \n",
    "    err = la.norm(z-ze, np.inf)    \n",
    "    \n",
    "    if err > tol:\n",
    "        print(f\"*** Error in Problem #1! (Difference = {err:.3e})\\n\")\n",
    "        return False\n",
    "    else: \n",
    "        print(f'Test passed. (Difference = {err:.3e})\\n')\n",
    "        return True\n",
    "\n",
    "def test_problem_2(solve_fdm, N=500000, tol=1e-6):\n",
    "    print('Solving FDM system...')\n",
    "\n",
    "    print('\\nComputing your solution...')\n",
    "    start_time = time()\n",
    "    \n",
    "    z = solve_fdm(N)\n",
    "\n",
    "    print('Computed solution in {:3.2f} seconds.'.format(time() - start_time))\n",
    "\n",
    "    print('\\nSolving benchmark solution...')\n",
    "    start_time = time()\n",
    "\n",
    "    local_vars = {'N': N}\n",
    "    exec(zlib.decompress(base64.b64decode('eJxztM0r0KtKLcov1tAw1vHT1ORyjDbQsYq11TUEsgxBLAUjIMsIKpZkq2ukBdSSn5darOGnqa/hp22oqaVlxFWVapuTqFecn1OWGp+UmJeSmqKhYahjqKnjqJOkyQUAduYbHg==')), globals(), local_vars)\n",
    "    ze = local_vars['ze']\n",
    "    print(z)\n",
    "    print('Computed benchmark solution in {:3.2f} seconds.'.format(time() - start_time))\n",
    "    \n",
    "    err = la.norm(z-ze, np.inf)\n",
    "    \n",
    "    if err > tol:\n",
    "        print(f\"*** Error in Problem #2! (Difference = {err:.3e})\")\n",
    "        return False\n",
    "    else:\n",
    "        print(f'Test passed. (Difference = {err:.3e})\\n')\n",
    "        return True\n",
    "\n",
    "def HW3_Test(solve_hilbert, solve_fdm):\n",
    "    passed = test_problem_1(solve_hilbert) and test_problem_2(solve_fdm)\n",
    "    \n",
    "    print(\"Tests {}!\".format(\"passed\" if passed else \"failed\" ))\n",
    "        \n",
    "    return passed"
   ]
  },
  {
   "cell_type": "markdown",
   "id": "0541e7c4",
   "metadata": {},
   "source": [
    "## Test each function individually:"
   ]
  },
  {
   "cell_type": "code",
   "execution_count": 12,
   "id": "f16be1ee",
   "metadata": {},
   "outputs": [
    {
     "name": "stdout",
     "output_type": "stream",
     "text": [
      "Solving Hilbert system...\n",
      "\n",
      "Computing your solution...\n",
      "Computed solution in 0.00 seconds.\n",
      "\n",
      "Solving benchmark solution...\n",
      "Computed benchmark solution in 0.01 seconds.\n",
      "Test passed. (Difference = 0.000e+00)\n",
      "\n"
     ]
    },
    {
     "name": "stderr",
     "output_type": "stream",
     "text": [
      "C:\\Users\\ponti\\AppData\\Local\\Temp/ipykernel_27432/3426178398.py:8: LinAlgWarning: Ill-conditioned matrix (rcond=1.00769e-20): result may not be accurate.\n",
      "  return la.solve(H, b)\n",
      "<string>:9: LinAlgWarning: Ill-conditioned matrix (rcond=1.00769e-20): result may not be accurate.\n"
     ]
    }
   ],
   "source": [
    "passed = test_problem_1(solve_hilbert)"
   ]
  },
  {
   "cell_type": "code",
   "execution_count": 6,
   "id": "939c41f1",
   "metadata": {},
   "outputs": [
    {
     "name": "stdout",
     "output_type": "stream",
     "text": [
      "Solving FDM system...\n",
      "\n",
      "Computing your solution...\n",
      "Computed solution in 0.25 seconds.\n",
      "\n",
      "Solving benchmark solution...\n",
      "[-1.99999227e-06 -3.99997654e-06 -5.99995281e-06 ... -5.99995334e-06\n",
      " -3.99997689e-06 -1.99999245e-06]\n",
      "Computed benchmark solution in 0.02 seconds.\n",
      "Test passed. (Difference = 0.000e+00)\n",
      "\n"
     ]
    }
   ],
   "source": [
    "passed = test_problem_2(solve_fdm)"
   ]
  },
  {
   "cell_type": "markdown",
   "id": "df507bcc",
   "metadata": {},
   "source": [
    "## Test all functions together"
   ]
  },
  {
   "cell_type": "code",
   "execution_count": 7,
   "id": "e6b03d38",
   "metadata": {},
   "outputs": [
    {
     "name": "stdout",
     "output_type": "stream",
     "text": [
      "Solving Hilbert system...\n",
      "\n",
      "Computing your solution...\n",
      "Computed solution in 0.00 seconds.\n",
      "\n",
      "Solving benchmark solution...\n",
      "Computed benchmark solution in 0.00 seconds.\n",
      "Test passed. (Difference = 0.000e+00)\n",
      "\n",
      "Solving FDM system...\n",
      "\n",
      "Computing your solution...\n",
      "Computed solution in 0.00 seconds.\n",
      "\n",
      "Solving benchmark solution...\n",
      "[0. 0. 0. ... 0. 0. 0.]\n",
      "Computed benchmark solution in 0.02 seconds.\n",
      "*** Error in Problem #2! (Difference = 2.500e-01)\n",
      "Tests failed!\n"
     ]
    },
    {
     "name": "stderr",
     "output_type": "stream",
     "text": [
      "C:\\Users\\Vaughan\\AppData\\Local\\Temp/ipykernel_49748/64344338.py:15: LinAlgWarning: Ill-conditioned matrix (rcond=3.29506e-21): result may not be accurate.\n",
      "  ze = la.solve(H, b)\n",
      "<string>:9: LinAlgWarning: Ill-conditioned matrix (rcond=3.29506e-21): result may not be accurate.\n"
     ]
    }
   ],
   "source": [
    "passed = HW3_Test(solve_hilbert, solve_fdm)"
   ]
  },
  {
   "cell_type": "code",
   "execution_count": null,
   "id": "a3b9865c",
   "metadata": {},
   "outputs": [],
   "source": []
  }
 ],
 "metadata": {
  "kernelspec": {
   "display_name": "Python 3 (ipykernel)",
   "language": "python",
   "name": "python3"
  },
  "language_info": {
   "codemirror_mode": {
    "name": "ipython",
    "version": 3
   },
   "file_extension": ".py",
   "mimetype": "text/x-python",
   "name": "python",
   "nbconvert_exporter": "python",
   "pygments_lexer": "ipython3",
   "version": "3.9.7"
  }
 },
 "nbformat": 4,
 "nbformat_minor": 5
}
