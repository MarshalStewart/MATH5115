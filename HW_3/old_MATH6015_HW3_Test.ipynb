{
 "cells": [
  {
   "cell_type": "markdown",
   "id": "53aca02b",
   "metadata": {},
   "source": [
    "# Test notebook for student's code for Assignment #3\n",
    "\n",
    "## Required function definitions:\n",
    "\n",
    "### Problem #1: \n",
    "- Function: solve_hilbert(b)\n",
    "- Input: RHS vector in Hx = b\n",
    "- Output: 1D numpy.array of the same length as b      \n",
    "\n",
    "### Problem #2: \n",
    "- Function: solve_fdm(N)\n",
    "- Input: Size of the linear system N (integer)\n",
    "- Output: 1D numpy.array of length N\n",
    "\n",
    "\n",
    "## How to run the test script:\n",
    "Once you have defined the two functions, you run the function `HW3_Test` in last cell. The test script will output \"Tests Passed\" if the code passes all the tests otherwise it will output which tests have failed. Depending on how fast your computer is, the tests might take a while to a minute to finish."
   ]
  },
  {
   "cell_type": "code",
   "execution_count": 3,
   "id": "2230f543",
   "metadata": {},
   "outputs": [],
   "source": [
    "import numpy as np\n",
    "import scipy.linalg as la\n",
    "import numpy.linalg as nla\n",
    "\n",
    "import zlib, base64\n",
    "from time import time"
   ]
  },
  {
   "cell_type": "code",
   "execution_count": 10,
   "id": "2d230fc0",
   "metadata": {},
   "outputs": [],
   "source": [
    "def solve_hilbert(b):\n",
    "    N = len(b)\n",
    "#     H = np.zeros((N, N))\n",
    "#     for i in range(N):\n",
    "#         for j in range(N):\n",
    "#             H[j,i] = 1/(i+j+1)\n",
    "    H = la.hilbert(N)\n",
    "    print(H)\n",
    "    print(b)\n",
    "    L, lower = la.cho_factor(H)\n",
    "    return la.cho_solve((L, lower), b)"
   ]
  },
  {
   "cell_type": "code",
   "execution_count": 11,
   "id": "3257ce8c",
   "metadata": {},
   "outputs": [],
   "source": [
    "# Problem #2\n",
    "def solve_fdm(N): \n",
    "    \n",
    "    # Create bounded storage matrix A\n",
    "    A = np.zeros((3, N))\n",
    "    A[0, :] = -1\n",
    "    A[1, :] = 2\n",
    "    A[2, :] = -1\n",
    "    \n",
    "    # Create RHS\n",
    "    b = np.zeros(N)\n",
    "    for i in range(1, N+1):\n",
    "        b[(i-1)] = -2/(N+1)**2\n",
    "    \n",
    "    return la.solve_banded((1,1), A, b)\n",
    "    "
   ]
  },
  {
   "cell_type": "code",
   "execution_count": 12,
   "id": "6c1935b1",
   "metadata": {},
   "outputs": [],
   "source": [
    "def test_problem_1(solve_hilbert, N=5000, tol=1e-6):\n",
    "    print('Solving Hilbert system...')\n",
    "    \n",
    "    b = np.random.rand(N)  # Compute a random RHS \n",
    "\n",
    "    print('\\nComputing your solution...')\n",
    "    start_time = time()\n",
    "    \n",
    "    z = solve_hilbert(b)\n",
    "    \n",
    "    print('Computed solution in {:3.2f} seconds.'.format(time() - start_time))\n",
    "\n",
    "    print('\\nSolving benchmark solution...')\n",
    "    start_time = time()\n",
    "    \n",
    "    local_vars = {'N': N, 'b': b}\n",
    "    exec(zlib.decompress(base64.b64decode('eJxFyzEOwjAMheHdp/BoQwgKI1L2TLkAYmglg2xVCUqkDjk9bRlY3/u/HGffdQikWD5+SKudKLvMDK/aUBW1YJvKWyjzHTA9VJ3qM4Yr3U6keg58CQy412b/en/cQX7G7DDbbLYZGBKXyfe6rELJzQxfAikn3g==')), globals(), local_vars)\n",
    "    ze = local_vars['ze']\n",
    "    print('Computed benchmark solution in {:3.2f} seconds.'.format(time() - start_time))\n",
    "    \n",
    "    print(f\"{z} vs {ze}\")\n",
    "    err = la.norm(z-ze, np.inf)\n",
    "    \n",
    "    if err > tol:\n",
    "        print(f\"*** Error in Problem #1! (Difference = {err:.3e})\\n\")\n",
    "        return False\n",
    "    else: \n",
    "        print(f'Test passed. (Difference = {err:.3e})\\n')\n",
    "        return True\n",
    "\n",
    "def test_problem_2(solve_fdm, N=500000, tol=1e-6):\n",
    "    print('Solving FDM system...')\n",
    "\n",
    "    print('\\nComputing your solution...')\n",
    "    start_time = time()\n",
    "    \n",
    "    z = solve_fdm(N)\n",
    "\n",
    "    print('Computed solution in {:3.2f} seconds.'.format(time() - start_time))\n",
    "\n",
    "    print('\\nSolving benchmark solution...')\n",
    "    start_time = time()\n",
    "\n",
    "    local_vars = {'N': N}\n",
    "    exec(zlib.decompress(base64.b64decode('eJxztM0r0KtKLcov1tAw1vHT1ORyjDbQsYq11TUEsgxBLAUjIMsIKpZkq2ukBdSSn5darOGnqa/hp22oqaVlxFWVapuTqFecn1OWGp+UmJeSmqKhYahjqKnjqJOkyQUAduYbHg==')), globals(), local_vars)\n",
    "    ze = local_vars['ze']\n",
    "    print('Computed benchmark solution in {:3.2f} seconds.'.format(time() - start_time))\n",
    "    \n",
    "    err = la.norm(z-ze, np.inf)\n",
    "    \n",
    "    if err > tol:\n",
    "        print(f\"*** Error in Problem #2! (Difference = {err:.3e})\")\n",
    "        return False\n",
    "    else:\n",
    "        print(f'Test passed. (Difference = {err:.3e})\\n')\n",
    "        return True\n",
    "\n",
    "def HW3_Test(solve_hilbert, solve_fdm):\n",
    "    passed = test_problem_1(solve_hilbert) and test_problem_2(solve_fdm)\n",
    "    \n",
    "    print(\"Tests {}!\".format(\"passed\" if passed else \"failed\" ))\n",
    "        \n",
    "    return passed"
   ]
  },
  {
   "cell_type": "markdown",
   "id": "0541e7c4",
   "metadata": {},
   "source": [
    "## Test each function individually:"
   ]
  },
  {
   "cell_type": "code",
   "execution_count": 13,
   "id": "f16be1ee",
   "metadata": {},
   "outputs": [
    {
     "name": "stdout",
     "output_type": "stream",
     "text": [
      "Solving Hilbert system...\n",
      "\n",
      "Computing your solution...\n",
      "[[1.00000000e+00 5.00000000e-01 3.33333333e-01 ... 2.00080032e-04\n",
      "  2.00040008e-04 2.00000000e-04]\n",
      " [5.00000000e-01 3.33333333e-01 2.50000000e-01 ... 2.00040008e-04\n",
      "  2.00000000e-04 1.99960008e-04]\n",
      " [3.33333333e-01 2.50000000e-01 2.00000000e-01 ... 2.00000000e-04\n",
      "  1.99960008e-04 1.99920032e-04]\n",
      " ...\n",
      " [2.00080032e-04 2.00040008e-04 2.00000000e-04 ... 1.00050025e-04\n",
      "  1.00040016e-04 1.00030009e-04]\n",
      " [2.00040008e-04 2.00000000e-04 1.99960008e-04 ... 1.00040016e-04\n",
      "  1.00030009e-04 1.00020004e-04]\n",
      " [2.00000000e-04 1.99960008e-04 1.99920032e-04 ... 1.00030009e-04\n",
      "  1.00020004e-04 1.00010001e-04]]\n",
      "[0.680511   0.3223771  0.66815055 ... 0.94895371 0.56240134 0.01304316]\n"
     ]
    },
    {
     "ename": "LinAlgError",
     "evalue": "14-th leading minor of the array is not positive definite",
     "output_type": "error",
     "traceback": [
      "\u001b[1;31m---------------------------------------------------------------------------\u001b[0m",
      "\u001b[1;31mLinAlgError\u001b[0m                               Traceback (most recent call last)",
      "\u001b[1;32m~\\AppData\\Local\\Temp/ipykernel_19772/626546948.py\u001b[0m in \u001b[0;36m<module>\u001b[1;34m\u001b[0m\n\u001b[1;32m----> 1\u001b[1;33m \u001b[0mpassed\u001b[0m \u001b[1;33m=\u001b[0m \u001b[0mtest_problem_1\u001b[0m\u001b[1;33m(\u001b[0m\u001b[0msolve_hilbert\u001b[0m\u001b[1;33m)\u001b[0m\u001b[1;33m\u001b[0m\u001b[1;33m\u001b[0m\u001b[0m\n\u001b[0m",
      "\u001b[1;32m~\\AppData\\Local\\Temp/ipykernel_19772/2207716404.py\u001b[0m in \u001b[0;36mtest_problem_1\u001b[1;34m(solve_hilbert, N, tol)\u001b[0m\n\u001b[0;32m      7\u001b[0m     \u001b[0mstart_time\u001b[0m \u001b[1;33m=\u001b[0m \u001b[0mtime\u001b[0m\u001b[1;33m(\u001b[0m\u001b[1;33m)\u001b[0m\u001b[1;33m\u001b[0m\u001b[1;33m\u001b[0m\u001b[0m\n\u001b[0;32m      8\u001b[0m \u001b[1;33m\u001b[0m\u001b[0m\n\u001b[1;32m----> 9\u001b[1;33m     \u001b[0mz\u001b[0m \u001b[1;33m=\u001b[0m \u001b[0msolve_hilbert\u001b[0m\u001b[1;33m(\u001b[0m\u001b[0mb\u001b[0m\u001b[1;33m)\u001b[0m\u001b[1;33m\u001b[0m\u001b[1;33m\u001b[0m\u001b[0m\n\u001b[0m\u001b[0;32m     10\u001b[0m \u001b[1;33m\u001b[0m\u001b[0m\n\u001b[0;32m     11\u001b[0m     \u001b[0mprint\u001b[0m\u001b[1;33m(\u001b[0m\u001b[1;34m'Computed solution in {:3.2f} seconds.'\u001b[0m\u001b[1;33m.\u001b[0m\u001b[0mformat\u001b[0m\u001b[1;33m(\u001b[0m\u001b[0mtime\u001b[0m\u001b[1;33m(\u001b[0m\u001b[1;33m)\u001b[0m \u001b[1;33m-\u001b[0m \u001b[0mstart_time\u001b[0m\u001b[1;33m)\u001b[0m\u001b[1;33m)\u001b[0m\u001b[1;33m\u001b[0m\u001b[1;33m\u001b[0m\u001b[0m\n",
      "\u001b[1;32m~\\AppData\\Local\\Temp/ipykernel_19772/1571443707.py\u001b[0m in \u001b[0;36msolve_hilbert\u001b[1;34m(b)\u001b[0m\n\u001b[0;32m      8\u001b[0m     \u001b[0mprint\u001b[0m\u001b[1;33m(\u001b[0m\u001b[0mH\u001b[0m\u001b[1;33m)\u001b[0m\u001b[1;33m\u001b[0m\u001b[1;33m\u001b[0m\u001b[0m\n\u001b[0;32m      9\u001b[0m     \u001b[0mprint\u001b[0m\u001b[1;33m(\u001b[0m\u001b[0mb\u001b[0m\u001b[1;33m)\u001b[0m\u001b[1;33m\u001b[0m\u001b[1;33m\u001b[0m\u001b[0m\n\u001b[1;32m---> 10\u001b[1;33m     \u001b[0mL\u001b[0m\u001b[1;33m,\u001b[0m \u001b[0mlower\u001b[0m \u001b[1;33m=\u001b[0m \u001b[0mla\u001b[0m\u001b[1;33m.\u001b[0m\u001b[0mcho_factor\u001b[0m\u001b[1;33m(\u001b[0m\u001b[0mH\u001b[0m\u001b[1;33m)\u001b[0m\u001b[1;33m\u001b[0m\u001b[1;33m\u001b[0m\u001b[0m\n\u001b[0m\u001b[0;32m     11\u001b[0m     \u001b[1;32mreturn\u001b[0m \u001b[0mla\u001b[0m\u001b[1;33m.\u001b[0m\u001b[0mcho_solve\u001b[0m\u001b[1;33m(\u001b[0m\u001b[1;33m(\u001b[0m\u001b[0mL\u001b[0m\u001b[1;33m,\u001b[0m \u001b[0mlower\u001b[0m\u001b[1;33m)\u001b[0m\u001b[1;33m,\u001b[0m \u001b[0mb\u001b[0m\u001b[1;33m)\u001b[0m\u001b[1;33m\u001b[0m\u001b[1;33m\u001b[0m\u001b[0m\n",
      "\u001b[1;32m~\\anaconda3\\lib\\site-packages\\scipy\\linalg\\decomp_cholesky.py\u001b[0m in \u001b[0;36mcho_factor\u001b[1;34m(a, lower, overwrite_a, check_finite)\u001b[0m\n\u001b[0;32m    150\u001b[0m \u001b[1;33m\u001b[0m\u001b[0m\n\u001b[0;32m    151\u001b[0m     \"\"\"\n\u001b[1;32m--> 152\u001b[1;33m     c, lower = _cholesky(a, lower=lower, overwrite_a=overwrite_a, clean=False,\n\u001b[0m\u001b[0;32m    153\u001b[0m                          check_finite=check_finite)\n\u001b[0;32m    154\u001b[0m     \u001b[1;32mreturn\u001b[0m \u001b[0mc\u001b[0m\u001b[1;33m,\u001b[0m \u001b[0mlower\u001b[0m\u001b[1;33m\u001b[0m\u001b[1;33m\u001b[0m\u001b[0m\n",
      "\u001b[1;32m~\\anaconda3\\lib\\site-packages\\scipy\\linalg\\decomp_cholesky.py\u001b[0m in \u001b[0;36m_cholesky\u001b[1;34m(a, lower, overwrite_a, clean, check_finite)\u001b[0m\n\u001b[0;32m     35\u001b[0m     \u001b[0mc\u001b[0m\u001b[1;33m,\u001b[0m \u001b[0minfo\u001b[0m \u001b[1;33m=\u001b[0m \u001b[0mpotrf\u001b[0m\u001b[1;33m(\u001b[0m\u001b[0ma1\u001b[0m\u001b[1;33m,\u001b[0m \u001b[0mlower\u001b[0m\u001b[1;33m=\u001b[0m\u001b[0mlower\u001b[0m\u001b[1;33m,\u001b[0m \u001b[0moverwrite_a\u001b[0m\u001b[1;33m=\u001b[0m\u001b[0moverwrite_a\u001b[0m\u001b[1;33m,\u001b[0m \u001b[0mclean\u001b[0m\u001b[1;33m=\u001b[0m\u001b[0mclean\u001b[0m\u001b[1;33m)\u001b[0m\u001b[1;33m\u001b[0m\u001b[1;33m\u001b[0m\u001b[0m\n\u001b[0;32m     36\u001b[0m     \u001b[1;32mif\u001b[0m \u001b[0minfo\u001b[0m \u001b[1;33m>\u001b[0m \u001b[1;36m0\u001b[0m\u001b[1;33m:\u001b[0m\u001b[1;33m\u001b[0m\u001b[1;33m\u001b[0m\u001b[0m\n\u001b[1;32m---> 37\u001b[1;33m         raise LinAlgError(\"%d-th leading minor of the array is not positive \"\n\u001b[0m\u001b[0;32m     38\u001b[0m                           \"definite\" % info)\n\u001b[0;32m     39\u001b[0m     \u001b[1;32mif\u001b[0m \u001b[0minfo\u001b[0m \u001b[1;33m<\u001b[0m \u001b[1;36m0\u001b[0m\u001b[1;33m:\u001b[0m\u001b[1;33m\u001b[0m\u001b[1;33m\u001b[0m\u001b[0m\n",
      "\u001b[1;31mLinAlgError\u001b[0m: 14-th leading minor of the array is not positive definite"
     ]
    }
   ],
   "source": [
    "passed = test_problem_1(solve_hilbert)"
   ]
  },
  {
   "cell_type": "code",
   "execution_count": 89,
   "id": "939c41f1",
   "metadata": {},
   "outputs": [
    {
     "name": "stdout",
     "output_type": "stream",
     "text": [
      "Solving FDM system...\n",
      "\n",
      "Computing your solution...\n",
      "Computed solution in 0.24 seconds.\n",
      "\n",
      "Solving benchmark solution...\n",
      "Computed benchmark solution in 0.02 seconds.\n",
      "[-1.99999227e-06 -3.99997654e-06 -5.99995281e-06 ... -5.99995334e-06\n",
      " -3.99997689e-06 -1.99999245e-06] vs [-1.99999227e-06 -3.99997654e-06 -5.99995281e-06 ... -5.99995334e-06\n",
      " -3.99997689e-06 -1.99999245e-06]\n",
      "Test passed. (Difference = 0.000e+00)\n",
      "\n"
     ]
    }
   ],
   "source": [
    "passed = test_problem_2(solve_fdm)"
   ]
  },
  {
   "cell_type": "markdown",
   "id": "df507bcc",
   "metadata": {},
   "source": [
    "## Test all functions together"
   ]
  },
  {
   "cell_type": "code",
   "execution_count": 8,
   "id": "e6b03d38",
   "metadata": {},
   "outputs": [
    {
     "name": "stdout",
     "output_type": "stream",
     "text": [
      "Solving Hilbert system...\n",
      "\n",
      "Computing your solution...\n"
     ]
    },
    {
     "ename": "ZeroDivisionError",
     "evalue": "division by zero",
     "output_type": "error",
     "traceback": [
      "\u001b[1;31m---------------------------------------------------------------------------\u001b[0m",
      "\u001b[1;31mZeroDivisionError\u001b[0m                         Traceback (most recent call last)",
      "\u001b[1;32m~\\AppData\\Local\\Temp/ipykernel_10836/1566758817.py\u001b[0m in \u001b[0;36m<module>\u001b[1;34m\u001b[0m\n\u001b[1;32m----> 1\u001b[1;33m \u001b[0mpassed\u001b[0m \u001b[1;33m=\u001b[0m \u001b[0mHW3_Test\u001b[0m\u001b[1;33m(\u001b[0m\u001b[0msolve_hilbert\u001b[0m\u001b[1;33m,\u001b[0m \u001b[0msolve_fdm\u001b[0m\u001b[1;33m)\u001b[0m\u001b[1;33m\u001b[0m\u001b[1;33m\u001b[0m\u001b[0m\n\u001b[0m",
      "\u001b[1;32m~\\AppData\\Local\\Temp/ipykernel_10836/2030458612.py\u001b[0m in \u001b[0;36mHW3_Test\u001b[1;34m(solve_hilbert, solve_fdm)\u001b[0m\n\u001b[0;32m     56\u001b[0m \u001b[1;33m\u001b[0m\u001b[0m\n\u001b[0;32m     57\u001b[0m \u001b[1;32mdef\u001b[0m \u001b[0mHW3_Test\u001b[0m\u001b[1;33m(\u001b[0m\u001b[0msolve_hilbert\u001b[0m\u001b[1;33m,\u001b[0m \u001b[0msolve_fdm\u001b[0m\u001b[1;33m)\u001b[0m\u001b[1;33m:\u001b[0m\u001b[1;33m\u001b[0m\u001b[1;33m\u001b[0m\u001b[0m\n\u001b[1;32m---> 58\u001b[1;33m     \u001b[0mpassed\u001b[0m \u001b[1;33m=\u001b[0m \u001b[0mtest_problem_1\u001b[0m\u001b[1;33m(\u001b[0m\u001b[0msolve_hilbert\u001b[0m\u001b[1;33m)\u001b[0m \u001b[1;32mand\u001b[0m \u001b[0mtest_problem_2\u001b[0m\u001b[1;33m(\u001b[0m\u001b[0msolve_fdm\u001b[0m\u001b[1;33m)\u001b[0m\u001b[1;33m\u001b[0m\u001b[1;33m\u001b[0m\u001b[0m\n\u001b[0m\u001b[0;32m     59\u001b[0m \u001b[1;33m\u001b[0m\u001b[0m\n\u001b[0;32m     60\u001b[0m     \u001b[0mprint\u001b[0m\u001b[1;33m(\u001b[0m\u001b[1;34m\"Tests {}!\"\u001b[0m\u001b[1;33m.\u001b[0m\u001b[0mformat\u001b[0m\u001b[1;33m(\u001b[0m\u001b[1;34m\"passed\"\u001b[0m \u001b[1;32mif\u001b[0m \u001b[0mpassed\u001b[0m \u001b[1;32melse\u001b[0m \u001b[1;34m\"failed\"\u001b[0m \u001b[1;33m)\u001b[0m\u001b[1;33m)\u001b[0m\u001b[1;33m\u001b[0m\u001b[1;33m\u001b[0m\u001b[0m\n",
      "\u001b[1;32m~\\AppData\\Local\\Temp/ipykernel_10836/2030458612.py\u001b[0m in \u001b[0;36mtest_problem_1\u001b[1;34m(solve_hilbert, N, tol)\u001b[0m\n\u001b[0;32m      7\u001b[0m     \u001b[0mstart_time\u001b[0m \u001b[1;33m=\u001b[0m \u001b[0mtime\u001b[0m\u001b[1;33m(\u001b[0m\u001b[1;33m)\u001b[0m\u001b[1;33m\u001b[0m\u001b[1;33m\u001b[0m\u001b[0m\n\u001b[0;32m      8\u001b[0m \u001b[1;33m\u001b[0m\u001b[0m\n\u001b[1;32m----> 9\u001b[1;33m     \u001b[0mz\u001b[0m \u001b[1;33m=\u001b[0m \u001b[0msolve_hilbert\u001b[0m\u001b[1;33m(\u001b[0m\u001b[0mb\u001b[0m\u001b[1;33m)\u001b[0m\u001b[1;33m\u001b[0m\u001b[1;33m\u001b[0m\u001b[0m\n\u001b[0m\u001b[0;32m     10\u001b[0m \u001b[1;33m\u001b[0m\u001b[0m\n\u001b[0;32m     11\u001b[0m     \u001b[0mprint\u001b[0m\u001b[1;33m(\u001b[0m\u001b[1;34m'Computed solution in {:3.2f} seconds.'\u001b[0m\u001b[1;33m.\u001b[0m\u001b[0mformat\u001b[0m\u001b[1;33m(\u001b[0m\u001b[0mtime\u001b[0m\u001b[1;33m(\u001b[0m\u001b[1;33m)\u001b[0m \u001b[1;33m-\u001b[0m \u001b[0mstart_time\u001b[0m\u001b[1;33m)\u001b[0m\u001b[1;33m)\u001b[0m\u001b[1;33m\u001b[0m\u001b[1;33m\u001b[0m\u001b[0m\n",
      "\u001b[1;32m~\\AppData\\Local\\Temp/ipykernel_10836/3798254899.py\u001b[0m in \u001b[0;36msolve_hilbert\u001b[1;34m(b)\u001b[0m\n\u001b[0;32m      4\u001b[0m     \u001b[1;32mfor\u001b[0m \u001b[0mi\u001b[0m \u001b[1;32min\u001b[0m \u001b[0mrange\u001b[0m\u001b[1;33m(\u001b[0m\u001b[0mN\u001b[0m\u001b[1;33m)\u001b[0m\u001b[1;33m:\u001b[0m\u001b[1;33m\u001b[0m\u001b[1;33m\u001b[0m\u001b[0m\n\u001b[0;32m      5\u001b[0m         \u001b[1;32mfor\u001b[0m \u001b[0mj\u001b[0m \u001b[1;32min\u001b[0m \u001b[0mrange\u001b[0m\u001b[1;33m(\u001b[0m\u001b[0mN\u001b[0m\u001b[1;33m)\u001b[0m\u001b[1;33m:\u001b[0m\u001b[1;33m\u001b[0m\u001b[1;33m\u001b[0m\u001b[0m\n\u001b[1;32m----> 6\u001b[1;33m             \u001b[0mH\u001b[0m\u001b[1;33m[\u001b[0m\u001b[0mi\u001b[0m\u001b[1;33m,\u001b[0m\u001b[0mj\u001b[0m\u001b[1;33m]\u001b[0m \u001b[1;33m=\u001b[0m \u001b[1;36m1\u001b[0m\u001b[1;33m/\u001b[0m\u001b[1;33m(\u001b[0m\u001b[0mi\u001b[0m\u001b[1;33m+\u001b[0m\u001b[0mj\u001b[0m\u001b[1;33m-\u001b[0m\u001b[1;36m1\u001b[0m\u001b[1;33m)\u001b[0m\u001b[1;33m\u001b[0m\u001b[1;33m\u001b[0m\u001b[0m\n\u001b[0m\u001b[0;32m      7\u001b[0m \u001b[1;33m\u001b[0m\u001b[0m\n\u001b[0;32m      8\u001b[0m     \u001b[1;32mreturn\u001b[0m \u001b[0mla\u001b[0m\u001b[1;33m.\u001b[0m\u001b[0msolve\u001b[0m\u001b[1;33m(\u001b[0m\u001b[0mH\u001b[0m\u001b[1;33m,\u001b[0m \u001b[0mb\u001b[0m\u001b[1;33m)\u001b[0m\u001b[1;33m\u001b[0m\u001b[1;33m\u001b[0m\u001b[0m\n",
      "\u001b[1;31mZeroDivisionError\u001b[0m: division by zero"
     ]
    }
   ],
   "source": [
    "passed = HW3_Test(solve_hilbert, solve_fdm)"
   ]
  },
  {
   "cell_type": "code",
   "execution_count": null,
   "id": "a3b9865c",
   "metadata": {},
   "outputs": [],
   "source": []
  }
 ],
 "metadata": {
  "kernelspec": {
   "display_name": "Python 3 (ipykernel)",
   "language": "python",
   "name": "python3"
  },
  "language_info": {
   "codemirror_mode": {
    "name": "ipython",
    "version": 3
   },
   "file_extension": ".py",
   "mimetype": "text/x-python",
   "name": "python",
   "nbconvert_exporter": "python",
   "pygments_lexer": "ipython3",
   "version": "3.9.7"
  }
 },
 "nbformat": 4,
 "nbformat_minor": 5
}
